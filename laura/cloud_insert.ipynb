{
 "cells": [
  {
   "cell_type": "code",
   "execution_count": 1,
   "metadata": {},
   "outputs": [],
   "source": [
    "# Dependencies\n",
    "# For extracting\n",
    "import requests\n",
    "from config_env import api_key, g_key, w_key\n",
    "import time\n",
    "# For transformation\n",
    "import json\n",
    "\n",
    "#for scraping Guardian article\n",
    "from bs4 import BeautifulSoup as bs\n",
    "\n",
    "import pymongo\n",
    "from pymongo import MongoClient\n",
    "import os\n",
    "import urllib.parse\n",
    "from config_env import username, password\n",
    "dbstring = \"@ds163764.mlab.com:63764/heroku_pptb0bm8\"\n"
   ]
  },
  {
   "cell_type": "code",
   "execution_count": 2,
   "metadata": {},
   "outputs": [],
   "source": [
    "uri = f'mongodb://{username}{password}{dbstring}'\n",
    "client = MongoClient(uri)"
   ]
  },
  {
   "cell_type": "code",
   "execution_count": 3,
   "metadata": {},
   "outputs": [],
   "source": [
    "db = client.heroku_pptb0bm8"
   ]
  },
  {
   "cell_type": "code",
   "execution_count": 4,
   "metadata": {},
   "outputs": [],
   "source": [
    "def cloud_insert(output_list):\n",
    "    uri = f'mongodb://{username}{password}{dbstring}'\n",
    "    client = MongoClient(uri)\n",
    "    db = client.heroku_pptb0bm8\n",
    "    try:\n",
    "        db.news_api.insert_many(output_list)\n",
    "    except TypeError:\n",
    "        print(\"Error inserting\")\n",
    "        "
   ]
  },
  {
   "cell_type": "code",
   "execution_count": null,
   "metadata": {},
   "outputs": [],
   "source": [
    "def nyt_api(begin_date, end_date, query, pages):\n",
    "    from config_env import api_key\n",
    "    base_url = \"https://api.nytimes.com/svc/search/v2/articlesearch.json?\"\n",
    "    # Store a search term\n",
    "    param = 'fq=news_desk:(Foreign)&fq=source:(The New York Times)'\n",
    "    # Search for articles published between a begin and end date\n",
    "    page = '&page='\n",
    "    query_url = f\"{base_url}{param}&api-key={api_key}&q={query}&facet_field=snippet&begin_date={begin_date}&end_date={end_date}{page}\"\n",
    "    \n",
    "    output_list = []\n",
    "# Retrieve articles\n",
    "\n",
    "    for n in range(0, pages):\n",
    "        url=query_url + str(n)\n",
    "        try:\n",
    "            articles = requests.get(url).json()\n",
    "            print(f\"Getting data from page {n} from NY Times query...\")\n",
    "            articles_list = [article for article in articles[\"response\"][\"docs\"]]\n",
    "\n",
    "            for item in articles_list:\n",
    "                list_dict = {}\n",
    "                list_dict[\"url\"] = item[\"web_url\"]\n",
    "                list_dict[\"headline\"] = item[\"headline\"][\"main\"]\n",
    "                list_dict[\"pub_date\"] = item[\"pub_date\"]\n",
    "                list_dict[\"source\"] = \"NYT\"\n",
    "                output_list.append(list_dict)\n",
    "\n",
    "            time.sleep(6)\n",
    "        except KeyError:\n",
    "            print(f\"Error with {n}\")\n",
    "            pass\n",
    "    cloud_insert(output_list)"
   ]
  },
  {
   "cell_type": "code",
   "execution_count": null,
   "metadata": {},
   "outputs": [],
   "source": [
    "nyt_api('20190222', '20190223', 'Venezuela', 2)"
   ]
  },
  {
   "cell_type": "code",
   "execution_count": null,
   "metadata": {},
   "outputs": [],
   "source": [
    "def guardian_api(begin_date, query, pages):\n",
    "    # Store a search term\n",
    "\n",
    "    url = f\"https://content.guardianapis.com/search?section=world&page-size=100&from-date={begin_date}&q={query}&api-key={g_key}&page=\"\n",
    "    output_list = []\n",
    "    # For the Guardian API\n",
    "    for i in range(1, pages):\n",
    "        query_url = url + str(i)\n",
    "        print(f'Getting data from page {pages} of Guardian query...')\n",
    "        try:\n",
    "            articles = requests.get(query_url).json()\n",
    "            if articles['response']['status'] == 'ok': \n",
    "                articles_list = [article for article in articles[\"response\"][\"results\"]]\n",
    "                for item in articles_list:\n",
    "                    if item[\"type\"] == 'article':\n",
    "                        list_dict = {}\n",
    "                        list_dict[\"url\"] = item[\"webUrl\"]\n",
    "                        list_dict[\"headline\"] = item[\"webTitle\"]\n",
    "                        list_dict[\"pub_date\"] = item[\"webPublicationDate\"]\n",
    "                        list_dict[\"source\"] = \"Guardian\"\n",
    "                        output_list.append(list_dict)\n",
    "        except KeyError:\n",
    "            pass\n",
    "    cloud_insert(output_list)"
   ]
  },
  {
   "cell_type": "code",
   "execution_count": null,
   "metadata": {},
   "outputs": [],
   "source": [
    "def article_text(collection):\n",
    "    nyt = []\n",
    "    guard = []\n",
    "    for item in collection:\n",
    "        if item['source'] == 'NYT': # If this is from the NY Times do this...\n",
    "            url = item['url']\n",
    "            nyt_dict = {}\n",
    "            print(f\"Getting article text for {item['url']}...\") \n",
    "            # Use Requests to get the HTML, verify False gets around https verification\n",
    "            try:\n",
    "                response = requests.get(url, verify=False)\n",
    "                soup = bs(response.text, 'lxml')\n",
    "                # Class specifies the body of the article\n",
    "                body_copy = soup.find('div', class_='css-53u6y8')\n",
    "            except AttributeError:\n",
    "                pass\n",
    "            nyt_dict['body_copy'] = str(body_copy)\n",
    "            # Insert this back into the database matching the URL\n",
    "            db.news.update_one({'url':url}, {'$set': nyt_dict})\n",
    "            time.sleep(1)\n",
    "        \n",
    "        elif item['source'] == 'Guardian':\n",
    "            g_dict = {}\n",
    "            url = item['url']\n",
    "            print(f\"Getting article text for {item['url']}...\") \n",
    "            try:\n",
    "                response = requests.get(url)\n",
    "                soup = bs(response.text, 'html.parser')\n",
    "                results = soup.find('div', class_=\"content__article-body\")\n",
    "            except AttributeError:\n",
    "                pass\n",
    "            text = results.find_all('p')\n",
    "            g_dict['body_copy'] = str(text)\n",
    "            db.news.update_one({'url':url}, {'$set': g_dict})\n"
   ]
  },
  {
   "cell_type": "code",
   "execution_count": null,
   "metadata": {},
   "outputs": [],
   "source": [
    "guardian_api('2019-02-23', 'Venezuela',2)"
   ]
  },
  {
   "cell_type": "code",
   "execution_count": null,
   "metadata": {
    "scrolled": true
   },
   "outputs": [],
   "source": [
    "# Go in and fill in any empty body text\n",
    "news = db.news.find({'body_copy': { '$exists': False}})\n",
    "article_text(news)"
   ]
  },
  {
   "cell_type": "code",
   "execution_count": 5,
   "metadata": {},
   "outputs": [],
   "source": [
    "def news_api(query, w_key, begin_date, end_date, pages):\n",
    "    #Dates are MM-DD-YYYY\n",
    "    url = f\"https://newsapi.org/v2/everything?q={query}&from={begin_date}&to=\\\n",
    "    {end_date}&language=en&pageSize=100&apiKey={w_key}&page=\"\n",
    "    \n",
    "    output_list = []\n",
    "    # For the News API\n",
    "    for i in range(1, pages):\n",
    "        query_url = url + str(i)\n",
    "        print(f'Getting data from page {query_url} of News API query...')\n",
    "        try:\n",
    "            articles = requests.get(query_url).json()\n",
    "            if articles['status'] == 'ok': \n",
    "                articles_list = [article for article in articles[\"articles\"]]\n",
    "                for item in articles_list:\n",
    "                    list_dict = {}\n",
    "                    list_dict[\"url\"] = item[\"url\"]\n",
    "                    list_dict[\"headline\"] = item[\"title\"]\n",
    "                    list_dict[\"pub_date\"] = item[\"publishedAt\"]\n",
    "                    list_dict['body_copy'] = item['content']\n",
    "                    list_dict[\"source\"] = item['source']['name']\n",
    "                    output_list.append(list_dict)\n",
    "        except KeyError:\n",
    "            pass\n",
    "        try:\n",
    "            cloud_insert(output_list)\n",
    "        except TypeError:\n",
    "            pass\n",
    "    "
   ]
  },
  {
   "cell_type": "code",
   "execution_count": 7,
   "metadata": {},
   "outputs": [
    {
     "name": "stdout",
     "output_type": "stream",
     "text": [
      "Getting data from page https://newsapi.org/v2/everything?q=Venezuela&from=01-23-2019&to=    02-23-2019&language=en&pageSize=100&apiKey=fc19f7c59a6d4a95b295bab5e56f21b3&page=1 of News API query...\n",
      "Getting data from page https://newsapi.org/v2/everything?q=Venezuela&from=01-23-2019&to=    02-23-2019&language=en&pageSize=100&apiKey=fc19f7c59a6d4a95b295bab5e56f21b3&page=2 of News API query...\n"
     ]
    },
    {
     "ename": "BulkWriteError",
     "evalue": "batch op errors occurred",
     "output_type": "error",
     "traceback": [
      "\u001b[0;31m---------------------------------------------------------------------------\u001b[0m",
      "\u001b[0;31mBulkWriteError\u001b[0m                            Traceback (most recent call last)",
      "\u001b[0;32m<ipython-input-7-c08fa0407f48>\u001b[0m in \u001b[0;36m<module>\u001b[0;34m()\u001b[0m\n\u001b[0;32m----> 1\u001b[0;31m \u001b[0mnews_api\u001b[0m\u001b[0;34m(\u001b[0m\u001b[0;34m'Venezuela'\u001b[0m\u001b[0;34m,\u001b[0m \u001b[0mw_key\u001b[0m\u001b[0;34m,\u001b[0m \u001b[0;34m'01-23-2019'\u001b[0m\u001b[0;34m,\u001b[0m \u001b[0;34m'02-23-2019'\u001b[0m\u001b[0;34m,\u001b[0m \u001b[0;36m3\u001b[0m\u001b[0;34m)\u001b[0m\u001b[0;34m\u001b[0m\u001b[0m\n\u001b[0m",
      "\u001b[0;32m<ipython-input-5-74b66ba42967>\u001b[0m in \u001b[0;36mnews_api\u001b[0;34m(query, w_key, begin_date, end_date, pages)\u001b[0m\n\u001b[1;32m     23\u001b[0m             \u001b[0;32mpass\u001b[0m\u001b[0;34m\u001b[0m\u001b[0m\n\u001b[1;32m     24\u001b[0m         \u001b[0;32mtry\u001b[0m\u001b[0;34m:\u001b[0m\u001b[0;34m\u001b[0m\u001b[0m\n\u001b[0;32m---> 25\u001b[0;31m             \u001b[0mcloud_insert\u001b[0m\u001b[0;34m(\u001b[0m\u001b[0moutput_list\u001b[0m\u001b[0;34m)\u001b[0m\u001b[0;34m\u001b[0m\u001b[0m\n\u001b[0m\u001b[1;32m     26\u001b[0m         \u001b[0;32mexcept\u001b[0m \u001b[0mTypeError\u001b[0m\u001b[0;34m:\u001b[0m\u001b[0;34m\u001b[0m\u001b[0m\n\u001b[1;32m     27\u001b[0m             \u001b[0;32mpass\u001b[0m\u001b[0;34m\u001b[0m\u001b[0m\n",
      "\u001b[0;32m<ipython-input-4-de89ab541d45>\u001b[0m in \u001b[0;36mcloud_insert\u001b[0;34m(output_list)\u001b[0m\n\u001b[1;32m      4\u001b[0m     \u001b[0mdb\u001b[0m \u001b[0;34m=\u001b[0m \u001b[0mclient\u001b[0m\u001b[0;34m.\u001b[0m\u001b[0mheroku_pptb0bm8\u001b[0m\u001b[0;34m\u001b[0m\u001b[0m\n\u001b[1;32m      5\u001b[0m     \u001b[0;32mtry\u001b[0m\u001b[0;34m:\u001b[0m\u001b[0;34m\u001b[0m\u001b[0m\n\u001b[0;32m----> 6\u001b[0;31m         \u001b[0mdb\u001b[0m\u001b[0;34m.\u001b[0m\u001b[0mnews_api\u001b[0m\u001b[0;34m.\u001b[0m\u001b[0minsert_many\u001b[0m\u001b[0;34m(\u001b[0m\u001b[0moutput_list\u001b[0m\u001b[0;34m)\u001b[0m\u001b[0;34m\u001b[0m\u001b[0m\n\u001b[0m\u001b[1;32m      7\u001b[0m     \u001b[0;32mexcept\u001b[0m \u001b[0mTypeError\u001b[0m\u001b[0;34m:\u001b[0m\u001b[0;34m\u001b[0m\u001b[0m\n\u001b[1;32m      8\u001b[0m         \u001b[0mprint\u001b[0m\u001b[0;34m(\u001b[0m\u001b[0;34m\"Error inserting\"\u001b[0m\u001b[0;34m)\u001b[0m\u001b[0;34m\u001b[0m\u001b[0m\n",
      "\u001b[0;32m~/anaconda3/lib/python3.7/site-packages/pymongo/collection.py\u001b[0m in \u001b[0;36minsert_many\u001b[0;34m(self, documents, ordered, bypass_document_validation, session)\u001b[0m\n\u001b[1;32m    751\u001b[0m         \u001b[0mblk\u001b[0m \u001b[0;34m=\u001b[0m \u001b[0m_Bulk\u001b[0m\u001b[0;34m(\u001b[0m\u001b[0mself\u001b[0m\u001b[0;34m,\u001b[0m \u001b[0mordered\u001b[0m\u001b[0;34m,\u001b[0m \u001b[0mbypass_document_validation\u001b[0m\u001b[0;34m)\u001b[0m\u001b[0;34m\u001b[0m\u001b[0m\n\u001b[1;32m    752\u001b[0m         \u001b[0mblk\u001b[0m\u001b[0;34m.\u001b[0m\u001b[0mops\u001b[0m \u001b[0;34m=\u001b[0m \u001b[0;34m[\u001b[0m\u001b[0mdoc\u001b[0m \u001b[0;32mfor\u001b[0m \u001b[0mdoc\u001b[0m \u001b[0;32min\u001b[0m \u001b[0mgen\u001b[0m\u001b[0;34m(\u001b[0m\u001b[0;34m)\u001b[0m\u001b[0;34m]\u001b[0m\u001b[0;34m\u001b[0m\u001b[0m\n\u001b[0;32m--> 753\u001b[0;31m         \u001b[0mblk\u001b[0m\u001b[0;34m.\u001b[0m\u001b[0mexecute\u001b[0m\u001b[0;34m(\u001b[0m\u001b[0mwrite_concern\u001b[0m\u001b[0;34m,\u001b[0m \u001b[0msession\u001b[0m\u001b[0;34m=\u001b[0m\u001b[0msession\u001b[0m\u001b[0;34m)\u001b[0m\u001b[0;34m\u001b[0m\u001b[0m\n\u001b[0m\u001b[1;32m    754\u001b[0m         \u001b[0;32mreturn\u001b[0m \u001b[0mInsertManyResult\u001b[0m\u001b[0;34m(\u001b[0m\u001b[0minserted_ids\u001b[0m\u001b[0;34m,\u001b[0m \u001b[0mwrite_concern\u001b[0m\u001b[0;34m.\u001b[0m\u001b[0macknowledged\u001b[0m\u001b[0;34m)\u001b[0m\u001b[0;34m\u001b[0m\u001b[0m\n\u001b[1;32m    755\u001b[0m \u001b[0;34m\u001b[0m\u001b[0m\n",
      "\u001b[0;32m~/anaconda3/lib/python3.7/site-packages/pymongo/bulk.py\u001b[0m in \u001b[0;36mexecute\u001b[0;34m(self, write_concern, session)\u001b[0m\n\u001b[1;32m    519\u001b[0m                 \u001b[0mself\u001b[0m\u001b[0;34m.\u001b[0m\u001b[0mexecute_no_results\u001b[0m\u001b[0;34m(\u001b[0m\u001b[0msock_info\u001b[0m\u001b[0;34m,\u001b[0m \u001b[0mgenerator\u001b[0m\u001b[0;34m)\u001b[0m\u001b[0;34m\u001b[0m\u001b[0m\n\u001b[1;32m    520\u001b[0m         \u001b[0;32melse\u001b[0m\u001b[0;34m:\u001b[0m\u001b[0;34m\u001b[0m\u001b[0m\n\u001b[0;32m--> 521\u001b[0;31m             \u001b[0;32mreturn\u001b[0m \u001b[0mself\u001b[0m\u001b[0;34m.\u001b[0m\u001b[0mexecute_command\u001b[0m\u001b[0;34m(\u001b[0m\u001b[0mgenerator\u001b[0m\u001b[0;34m,\u001b[0m \u001b[0mwrite_concern\u001b[0m\u001b[0;34m,\u001b[0m \u001b[0msession\u001b[0m\u001b[0;34m)\u001b[0m\u001b[0;34m\u001b[0m\u001b[0m\n\u001b[0m\u001b[1;32m    522\u001b[0m \u001b[0;34m\u001b[0m\u001b[0m\n\u001b[1;32m    523\u001b[0m \u001b[0;34m\u001b[0m\u001b[0m\n",
      "\u001b[0;32m~/anaconda3/lib/python3.7/site-packages/pymongo/bulk.py\u001b[0m in \u001b[0;36mexecute_command\u001b[0;34m(self, generator, write_concern, session)\u001b[0m\n\u001b[1;32m    347\u001b[0m \u001b[0;34m\u001b[0m\u001b[0m\n\u001b[1;32m    348\u001b[0m         \u001b[0;32mif\u001b[0m \u001b[0mfull_result\u001b[0m\u001b[0;34m[\u001b[0m\u001b[0;34m\"writeErrors\"\u001b[0m\u001b[0;34m]\u001b[0m \u001b[0;32mor\u001b[0m \u001b[0mfull_result\u001b[0m\u001b[0;34m[\u001b[0m\u001b[0;34m\"writeConcernErrors\"\u001b[0m\u001b[0;34m]\u001b[0m\u001b[0;34m:\u001b[0m\u001b[0;34m\u001b[0m\u001b[0m\n\u001b[0;32m--> 349\u001b[0;31m             \u001b[0m_raise_bulk_write_error\u001b[0m\u001b[0;34m(\u001b[0m\u001b[0mfull_result\u001b[0m\u001b[0;34m)\u001b[0m\u001b[0;34m\u001b[0m\u001b[0m\n\u001b[0m\u001b[1;32m    350\u001b[0m         \u001b[0;32mreturn\u001b[0m \u001b[0mfull_result\u001b[0m\u001b[0;34m\u001b[0m\u001b[0m\n\u001b[1;32m    351\u001b[0m \u001b[0;34m\u001b[0m\u001b[0m\n",
      "\u001b[0;32m~/anaconda3/lib/python3.7/site-packages/pymongo/bulk.py\u001b[0m in \u001b[0;36m_raise_bulk_write_error\u001b[0;34m(full_result)\u001b[0m\n\u001b[1;32m    138\u001b[0m         full_result[\"writeErrors\"].sort(\n\u001b[1;32m    139\u001b[0m             key=lambda error: error[\"index\"])\n\u001b[0;32m--> 140\u001b[0;31m     \u001b[0;32mraise\u001b[0m \u001b[0mBulkWriteError\u001b[0m\u001b[0;34m(\u001b[0m\u001b[0mfull_result\u001b[0m\u001b[0;34m)\u001b[0m\u001b[0;34m\u001b[0m\u001b[0m\n\u001b[0m\u001b[1;32m    141\u001b[0m \u001b[0;34m\u001b[0m\u001b[0m\n\u001b[1;32m    142\u001b[0m \u001b[0;34m\u001b[0m\u001b[0m\n",
      "\u001b[0;31mBulkWriteError\u001b[0m: batch op errors occurred"
     ]
    }
   ],
   "source": [
    "news_api('Venezuela', w_key, '01-23-2019', '02-23-2019', 3)"
   ]
  },
  {
   "cell_type": "code",
   "execution_count": null,
   "metadata": {},
   "outputs": [],
   "source": []
  },
  {
   "cell_type": "code",
   "execution_count": null,
   "metadata": {},
   "outputs": [],
   "source": []
  }
 ],
 "metadata": {
  "kernelspec": {
   "display_name": "Python 3",
   "language": "python",
   "name": "python3"
  },
  "language_info": {
   "codemirror_mode": {
    "name": "ipython",
    "version": 3
   },
   "file_extension": ".py",
   "mimetype": "text/x-python",
   "name": "python",
   "nbconvert_exporter": "python",
   "pygments_lexer": "ipython3",
   "version": "3.7.0"
  }
 },
 "nbformat": 4,
 "nbformat_minor": 2
}
