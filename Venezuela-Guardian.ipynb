{
 "cells": [
  {
   "cell_type": "code",
   "execution_count": 31,
   "metadata": {},
   "outputs": [],
   "source": [
    "# Dependencies\n",
    "import requests\n",
    "from config_env import g_key\n",
    "import time\n",
    "import numpy as np\n",
    "import pandas as pd\n",
    "import json\n",
    "import os\n",
    "from IPython.core.display import display, HTML\n",
    "import pymongo\n",
    "from pymongo import MongoClient\n",
    "\n",
    "\n",
    "\n",
    "# Store a search term\n",
    "query = \"Venezuela\"\n",
    "\n",
    "# Search for articles published between a begin and end date\n",
    "begin_date = \"2014-01-01\"\n",
    "end_date = \"20190101\"\n",
    "offset = '&offset='\n",
    "\n",
    "url = f\"https://content.guardianapis.com/search?section=world&page-size=100&from-date={begin_date}&q={query}&api-key={g_key}&page=\"\n",
    "\n"
   ]
  },
  {
   "cell_type": "code",
   "execution_count": 35,
   "metadata": {},
   "outputs": [],
   "source": [
    "output_list = []\n",
    "\n",
    "for i in range(1, 20):\n",
    "    query_url = url + str(i)\n",
    "    try:\n",
    "        articles = requests.get(query_url).json()\n",
    "        if articles['response']['status'] != 'error':\n",
    "            output_list.append(articles)\n",
    "    except:\n",
    "        pass\n"
   ]
  },
  {
   "cell_type": "code",
   "execution_count": null,
   "metadata": {},
   "outputs": [],
   "source": []
  },
  {
   "cell_type": "code",
   "execution_count": 59,
   "metadata": {},
   "outputs": [],
   "source": [
    "news = []\n",
    "for i in range(1, 20):\n",
    "    query_url = url + str(i)\n",
    "    try:\n",
    "        articles = requests.get(query_url).json()\n",
    "        if articles['response']['status'] != 'error':\n",
    "            for item in article_list['response']['results']:\n",
    "                list_dict = {}\n",
    "                list_dict[\"url\"] = item[\"id\"]\n",
    "                list_dict[\"headline\"] = item[\"webTitle\"]\n",
    "                list_dict[\"keywords\"] = item[\"keywords\"]\n",
    "                list_dict[\"section\"] = item[\"pillarName\"]\n",
    "                news.append(list_dict)\n",
    "    except:\n",
    "        pass\n",
    "\n",
    "\n",
    "# print(news)"
   ]
  },
  {
   "cell_type": "code",
   "execution_count": 62,
   "metadata": {},
   "outputs": [
    {
     "name": "stdout",
     "output_type": "stream",
     "text": [
      "{'response': {'status': 'error', 'message': 'requested page is beyond the number of available pages'}}\n"
     ]
    }
   ],
   "source": [
    "print(articles)"
   ]
  },
  {
   "cell_type": "code",
   "execution_count": 28,
   "metadata": {},
   "outputs": [
    {
     "name": "stdout",
     "output_type": "stream",
     "text": [
      "Your data will be in out_20190220-112837.txt\n"
     ]
    }
   ],
   "source": [
    "timestr = time.strftime('%Y%m%d-%H%M%S')\n",
    "output = 'out_' + timestr + '.txt'\n",
    "print(f'Your data will be in {output}')\n",
    "\n",
    "for item in output_list:\n",
    "    with open(output, 'a+') as f:\n",
    "        f.write(str(item))"
   ]
  },
  {
   "cell_type": "code",
   "execution_count": 36,
   "metadata": {},
   "outputs": [
    {
     "name": "stdout",
     "output_type": "stream",
     "text": [
      "Mongo version 3.7.2\n"
     ]
    }
   ],
   "source": [
    "# jfile = \"out_20190220-112837.txt\"\n",
    "\n",
    "# with open(jfile, 'r') as jsonfile:\n",
    "#     articles = json.load(jsonfile)\n",
    "print('Mongo version', pymongo.__version__)\n",
    "client = MongoClient('localhost', 27017)\n",
    "db = client.venezuela\n",
    "\n",
    "    "
   ]
  },
  {
   "cell_type": "code",
   "execution_count": 40,
   "metadata": {},
   "outputs": [],
   "source": [
    "for item in output_list:\n",
    "    db.news.insert_one(item)"
   ]
  },
  {
   "cell_type": "code",
   "execution_count": null,
   "metadata": {},
   "outputs": [],
   "source": []
  }
 ],
 "metadata": {
  "kernelspec": {
   "display_name": "Python 3",
   "language": "python",
   "name": "python3"
  },
  "language_info": {
   "codemirror_mode": {
    "name": "ipython",
    "version": 3
   },
   "file_extension": ".py",
   "mimetype": "text/x-python",
   "name": "python",
   "nbconvert_exporter": "python",
   "pygments_lexer": "ipython3",
   "version": "3.7.0"
  }
 },
 "nbformat": 4,
 "nbformat_minor": 2
}
